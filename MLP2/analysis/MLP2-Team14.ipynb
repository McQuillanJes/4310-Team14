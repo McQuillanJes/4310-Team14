{
 "cells": [
  {
   "cell_type": "markdown",
   "id": "ce5b2caf",
   "metadata": {},
   "source": [
    "# MLP2\n",
    "## Jonathan Doan & Jesse McQuillan"
   ]
  },
  {
   "cell_type": "code",
   "execution_count": 247,
   "id": "a211827e",
   "metadata": {},
   "outputs": [],
   "source": [
    "# Common imports\n",
    "import numpy as np\n",
    "import pandas as pd\n",
    "import re\n",
    "\n",
    "# To plot pretty figures\n",
    "%matplotlib inline\n",
    "import matplotlib as mpl\n",
    "import matplotlib.pyplot as plt\n",
    "mpl.rc('axes', labelsize=14)\n",
    "mpl.rc('xtick', labelsize=12)\n",
    "mpl.rc('ytick', labelsize=12)\n",
    "\n",
    "\n",
    "# to make this notebook's output stable across runs\n",
    "np.random.seed(42)"
   ]
  },
  {
   "cell_type": "markdown",
   "id": "be5acf59",
   "metadata": {},
   "source": [
    "### Tweets.csv\n",
    "Contains 410,186 tweets "
   ]
  },
  {
   "cell_type": "code",
   "execution_count": 249,
   "id": "fd32f0d5",
   "metadata": {},
   "outputs": [
    {
     "data": {
      "text/html": [
       "<div>\n",
       "<style scoped>\n",
       "    .dataframe tbody tr th:only-of-type {\n",
       "        vertical-align: middle;\n",
       "    }\n",
       "\n",
       "    .dataframe tbody tr th {\n",
       "        vertical-align: top;\n",
       "    }\n",
       "\n",
       "    .dataframe thead th {\n",
       "        text-align: right;\n",
       "    }\n",
       "</style>\n",
       "<table border=\"1\" class=\"dataframe\">\n",
       "  <thead>\n",
       "    <tr style=\"text-align: right;\">\n",
       "      <th></th>\n",
       "      <th>wordle_id</th>\n",
       "      <th>tweet_id</th>\n",
       "      <th>tweet_date</th>\n",
       "      <th>tweet_username</th>\n",
       "      <th>tweet_text</th>\n",
       "    </tr>\n",
       "  </thead>\n",
       "  <tbody>\n",
       "    <tr>\n",
       "      <th>410182</th>\n",
       "      <td>291</td>\n",
       "      <td>1511736826435878913</td>\n",
       "      <td>2022-04-06 16:05:20+00:00</td>\n",
       "      <td>SpottedLights</td>\n",
       "      <td>Wordle 291 4/6\\n\\n🟨⬛⬛⬛⬛\\n⬛⬛🟨⬛⬛\\n🟩⬛🟨🟨⬛\\n🟩🟩🟩🟩🟩</td>\n",
       "    </tr>\n",
       "    <tr>\n",
       "      <th>410183</th>\n",
       "      <td>291</td>\n",
       "      <td>1511736827195011072</td>\n",
       "      <td>2022-04-06 16:05:20+00:00</td>\n",
       "      <td>AlisonB916</td>\n",
       "      <td>Wordle 291 4/6\\n\\n⬜🟩⬜⬜⬜\\n⬜⬜🟨⬜⬜\\n🟩🟩⬜⬜🟩\\n🟩🟩🟩🟩🟩</td>\n",
       "    </tr>\n",
       "    <tr>\n",
       "      <th>410184</th>\n",
       "      <td>291</td>\n",
       "      <td>1511736850741878784</td>\n",
       "      <td>2022-04-06 16:05:26+00:00</td>\n",
       "      <td>Nico19596830</td>\n",
       "      <td>Wordle 291 4/6\\n\\n🟩⬛⬛🟨🟨\\n🟩🟨🟩⬛⬛\\n⬛🟩⬛⬛⬛\\n🟩🟩🟩🟩🟩</td>\n",
       "    </tr>\n",
       "    <tr>\n",
       "      <th>410185</th>\n",
       "      <td>291</td>\n",
       "      <td>1511736856433631233</td>\n",
       "      <td>2022-04-06 16:05:27+00:00</td>\n",
       "      <td>RumzHere</td>\n",
       "      <td>Wordle 291 3/6\\n\\n🟩⬜🟨🟩⬜\\n🟩🟨🟩⬜🟨\\n🟩🟩🟩🟩🟩</td>\n",
       "    </tr>\n",
       "    <tr>\n",
       "      <th>410186</th>\n",
       "      <td>291</td>\n",
       "      <td>1511736863987490826</td>\n",
       "      <td>2022-04-06 16:05:29+00:00</td>\n",
       "      <td>weboggle</td>\n",
       "      <td>Wordle 291 4/6\\n\\n⬜⬜⬜🟨⬜\\n🟩🟩⬜⬜⬜\\n🟩🟩⬜⬜🟩\\n🟩🟩🟩🟩🟩\\n🌃</td>\n",
       "    </tr>\n",
       "  </tbody>\n",
       "</table>\n",
       "</div>"
      ],
      "text/plain": [
       "        wordle_id             tweet_id                 tweet_date  \\\n",
       "410182        291  1511736826435878913  2022-04-06 16:05:20+00:00   \n",
       "410183        291  1511736827195011072  2022-04-06 16:05:20+00:00   \n",
       "410184        291  1511736850741878784  2022-04-06 16:05:26+00:00   \n",
       "410185        291  1511736856433631233  2022-04-06 16:05:27+00:00   \n",
       "410186        291  1511736863987490826  2022-04-06 16:05:29+00:00   \n",
       "\n",
       "       tweet_username                                       tweet_text  \n",
       "410182  SpottedLights     Wordle 291 4/6\\n\\n🟨⬛⬛⬛⬛\\n⬛⬛🟨⬛⬛\\n🟩⬛🟨🟨⬛\\n🟩🟩🟩🟩🟩  \n",
       "410183     AlisonB916     Wordle 291 4/6\\n\\n⬜🟩⬜⬜⬜\\n⬜⬜🟨⬜⬜\\n🟩🟩⬜⬜🟩\\n🟩🟩🟩🟩🟩  \n",
       "410184   Nico19596830     Wordle 291 4/6\\n\\n🟩⬛⬛🟨🟨\\n🟩🟨🟩⬛⬛\\n⬛🟩⬛⬛⬛\\n🟩🟩🟩🟩🟩  \n",
       "410185       RumzHere            Wordle 291 3/6\\n\\n🟩⬜🟨🟩⬜\\n🟩🟨🟩⬜🟨\\n🟩🟩🟩🟩🟩  \n",
       "410186       weboggle  Wordle 291 4/6\\n\\n⬜⬜⬜🟨⬜\\n🟩🟩⬜⬜⬜\\n🟩🟩⬜⬜🟩\\n🟩🟩🟩🟩🟩\\n🌃  "
      ]
     },
     "execution_count": 249,
     "metadata": {},
     "output_type": "execute_result"
    }
   ],
   "source": [
    "\n",
    "wordleTweets = pd.read_csv(\"../rawdata/tweets.csv\")\n",
    "wordleTweets.head(20)\n",
    "wordleTweets.tail()"
   ]
  },
  {
   "cell_type": "code",
   "execution_count": 197,
   "id": "710491dd",
   "metadata": {},
   "outputs": [
    {
     "name": "stdout",
     "output_type": "stream",
     "text": [
      "Complete!\n"
     ]
    }
   ],
   "source": [
    "#sort them by wordle id to make prevent out of sequence errors\n",
    "wordleTweets.sort_values(by=['wordle_id'], inplace=True)\n",
    "\n",
    "games = []\n",
    "daily = []\n",
    "cur_id = 0\n",
    "\n",
    "#process each tweet to make text machine readable\n",
    "for index, tweet in wordleTweets.iterrows():\n",
    "    \n",
    "    #Set first index\n",
    "    if index == 0:\n",
    "        cur_id = tweet.wordle_id\n",
    "        \n",
    "    #find all guess emoju strings\n",
    "    raw_guesses = re.findall(\"([🟩🟨⬛⬜]+)\", tweet.tweet_text)\n",
    "    single_game = []\n",
    "    \n",
    "    #replace emojs with letter\n",
    "    for guess in raw_guesses:\n",
    "        guess = guess.replace(\"🟩\", 'G')\n",
    "        guess = guess.replace(\"🟨\", 'Y')\n",
    "        guess = guess.replace(\"⬛\", 'B')\n",
    "        guess = guess.replace(\"⬜\", 'B')\n",
    "        single_game.append(guess)\n",
    "    #print(single_game)\n",
    "    \n",
    "    #add to the days games\n",
    "    daily.append(single_game[:])\n",
    "    \n",
    "    #add the day to the list and start a new daily\n",
    "    if tweet.wordle_id != cur_id:\n",
    "        #print(len(daily))\n",
    "        games.append(daily[:])\n",
    "        daily.clear()\n",
    "        cur_id = tweet.wordle_id\n",
    "\n",
    "print(\"Complete!\")"
   ]
  },
  {
   "cell_type": "code",
   "execution_count": 198,
   "id": "a2705fb8",
   "metadata": {},
   "outputs": [],
   "source": [
    "# Used for checking the data\n",
    "#for game in games:\n",
    "#    print(len(game))"
   ]
  },
  {
   "cell_type": "code",
   "execution_count": 191,
   "id": "bcfd3f91",
   "metadata": {},
   "outputs": [
    {
     "name": "stdout",
     "output_type": "stream",
     "text": [
      "              count\n",
      "count  3.333330e+05\n",
      "mean   1.764374e+06\n",
      "std    6.629987e+07\n",
      "min    1.271100e+04\n",
      "25%    2.122400e+04\n",
      "50%    4.151900e+04\n",
      "75%    1.365760e+05\n",
      "max    2.313585e+10 \n",
      "\n",
      "word      True\n",
      "count    False\n",
      "dtype: bool \n",
      "\n",
      "word     False\n",
      "count    False\n",
      "dtype: bool \n",
      "\n"
     ]
    },
    {
     "data": {
      "text/html": [
       "<div>\n",
       "<style scoped>\n",
       "    .dataframe tbody tr th:only-of-type {\n",
       "        vertical-align: middle;\n",
       "    }\n",
       "\n",
       "    .dataframe tbody tr th {\n",
       "        vertical-align: top;\n",
       "    }\n",
       "\n",
       "    .dataframe thead th {\n",
       "        text-align: right;\n",
       "    }\n",
       "</style>\n",
       "<table border=\"1\" class=\"dataframe\">\n",
       "  <thead>\n",
       "    <tr style=\"text-align: right;\">\n",
       "      <th></th>\n",
       "      <th>word</th>\n",
       "      <th>count</th>\n",
       "    </tr>\n",
       "  </thead>\n",
       "  <tbody>\n",
       "    <tr>\n",
       "      <th>0</th>\n",
       "      <td>the</td>\n",
       "      <td>23135851162</td>\n",
       "    </tr>\n",
       "    <tr>\n",
       "      <th>1</th>\n",
       "      <td>of</td>\n",
       "      <td>13151942776</td>\n",
       "    </tr>\n",
       "    <tr>\n",
       "      <th>2</th>\n",
       "      <td>and</td>\n",
       "      <td>12997637966</td>\n",
       "    </tr>\n",
       "    <tr>\n",
       "      <th>3</th>\n",
       "      <td>to</td>\n",
       "      <td>12136980858</td>\n",
       "    </tr>\n",
       "    <tr>\n",
       "      <th>4</th>\n",
       "      <td>a</td>\n",
       "      <td>9081174698</td>\n",
       "    </tr>\n",
       "  </tbody>\n",
       "</table>\n",
       "</div>"
      ],
      "text/plain": [
       "  word        count\n",
       "0  the  23135851162\n",
       "1   of  13151942776\n",
       "2  and  12997637966\n",
       "3   to  12136980858\n",
       "4    a   9081174698"
      ]
     },
     "execution_count": 191,
     "metadata": {},
     "output_type": "execute_result"
    }
   ],
   "source": [
    "word_freqs = pd.read_csv(\"../rawdata/unigram_freq.csv\")\n",
    "\n",
    "print(word_freqs.describe(),'\\n')\n",
    "\n",
    "print(word_freqs.isnull().any(), '\\n')\n",
    "\n",
    "word_freqs.dropna(inplace=True)\n",
    "\n",
    "print(word_freqs.isnull().any(), '\\n')\n",
    "\n",
    "word_freqs.head()"
   ]
  },
  {
   "cell_type": "code",
   "execution_count": 192,
   "id": "7fb19882",
   "metadata": {},
   "outputs": [],
   "source": [
    "#Read answers\n",
    "answers_file = open(\"../rawdata/answers.txt\")\n",
    "raw_answers = answers_file.read()\n",
    "answers = raw_answers.splitlines()\n",
    "#print(answers[:10])\n",
    "\n",
    "#Read other words\n",
    "other_words_file = open(\"../rawdata/other_words.txt\")\n",
    "raw_other_words = other_words_file.read()\n",
    "other_words = raw_other_words.splitlines()\n",
    "#print(other_words[:10])\n",
    "\n",
    "#combine them\n",
    "words = sorted(answers + other_words)"
   ]
  },
  {
   "cell_type": "code",
   "execution_count": 193,
   "id": "ae712dff",
   "metadata": {},
   "outputs": [],
   "source": [
    "#Create a lit of every possible tile combination\n",
    "import itertools\n",
    "\n",
    "unique_tiles = ['G', 'Y', 'B']\n",
    "impossible_tiles = ['GGGGG', 'GGGGY', 'GGGYG', 'GGYGG', 'GYGGG', 'YGGGG', ]\n",
    "tile_combos = []\n",
    "\n",
    "for raw_answer in itertools.product(unique_tiles, repeat=5):\n",
    "    clean_answer = ''.join(raw_answer)\n",
    "    if clean_answer not in impossible_tiles:\n",
    "        tile_combos.append(''.join(raw_answer))\n",
    "\n",
    "#print (tile_combos)"
   ]
  },
  {
   "cell_type": "code",
   "execution_count": 244,
   "id": "20aa3f4e",
   "metadata": {},
   "outputs": [],
   "source": [
    "#Takes in a word and returns a distribution of probably answers based on how many words correspond to a particular tile response\n",
    "word_size = 5\n",
    "new_line = '\\n'\n",
    "GREEN = 'G'\n",
    "YELLOW = 'Y'\n",
    "BLACK = 'B'\n",
    "\n",
    "#Takes in a word and a set of tiles, and returns a list of all valid five letter words given the conditions\n",
    "def get_possible_answers(word, tiles):\n",
    "    re_exp = \"\"\n",
    "    remaining_words = words\n",
    "    #print(len(remaining_words))\n",
    "    #print(tiles)\n",
    "    for i in range(word_size):\n",
    "        if tiles[i] == GREEN:\n",
    "            for j in range(word_size):\n",
    "                if i == j:\n",
    "                    re_exp += word[i]\n",
    "                if i != j:\n",
    "                    re_exp += '.'\n",
    "        if tiles[i] == YELLOW:\n",
    "            more_re = re.compile(r'(?=[a-z]*[' + word[i] + '])[a-z]{5}')\n",
    "            remaining_words = list(filter(more_re.search, remaining_words))\n",
    "            for j in range(word_size):\n",
    "                if j == 0:\n",
    "                    re_exp += '^'\n",
    "                if i == j:\n",
    "                    re_exp += '[^' + word[i] + ']'\n",
    "                if i != j:\n",
    "                    re_exp += '.'\n",
    "        if tiles[i] == BLACK:\n",
    "            for j in range(word_size):\n",
    "                if j == 0:\n",
    "                    re_exp += '^'\n",
    "                if i == j:\n",
    "                    re_exp += '[^' + word[i] + ']'\n",
    "                if i != j:\n",
    "                    re_exp += '.'\n",
    "        \n",
    "        #print(re_exp)\n",
    "        remaining_words = list(filter(re.compile(re_exp).search, remaining_words)) \n",
    "        #print(remaining_words)\n",
    "        re_exp = ''\n",
    "    #print(remaining_words_list)\n",
    "    #print('words found')\n",
    "    return remaining_words\n",
    "    \n",
    "\n",
    "# takes in a word and returns a dictionary tile combinations as keys and lists of possible words as values\n",
    "def get_guess_word_distro(word):\n",
    "    answer_dict = {}\n",
    "    for combo in tile_combinations:\n",
    "        remaining_possibilities = get_possible_answers(word, combo)\n",
    "        answer_dict[combo] = remaining_possibilities\n",
    "    #print('distro found')\n",
    "    return answer_dict\n",
    "\n",
    "#converts a pattern, word dictionary to a sorted pandas dataframe with counts of how many words correspond with each pattern\n",
    "def word_to_count_distro(guess_words_dict):\n",
    "    cols = ['pattern','count']\n",
    "    df_guess_dist = pd.DataFrame(data=None, columns=cols)\n",
    "    for tiles, guesses in guess_words_dict.items():\n",
    "        #print(tiles, len(guesses))\n",
    "        data = [tiles, len(guesses)]\n",
    "        df_guess_dist.loc[len(df_guess_dist.index)+1] = data\n",
    "    df_guess_dist.set_index('pattern')\n",
    "    df_guess_dist['count'] = pd.to_numeric(df_guess_dist[\"count\"])\n",
    "    df_guess_dist.sort_values(by=['count'], inplace=True)\n",
    "    return df_guess_dist\n"
   ]
  },
  {
   "cell_type": "code",
   "execution_count": 245,
   "id": "0638f512",
   "metadata": {},
   "outputs": [
    {
     "data": {
      "text/plain": [
       "<AxesSubplot:>"
      ]
     },
     "execution_count": 245,
     "metadata": {},
     "output_type": "execute_result"
    },
    {
     "data": {
      "image/png": "[encoded data removed]",
      "text/plain": [
       "<Figure size 432x288 with 1 Axes>"
      ]
     },
     "metadata": {
      "needs_background": "light"
     },
     "output_type": "display_data"
    }
   ],
   "source": [
    "check_my_distribution = 'crane'\n",
    "\n",
    "guess_words_dict = get_guess_word_distro(check_my_distribution)\n",
    "\n",
    "df_distro = word_to_count_distro(guess_words_dict)\n",
    "\n",
    "df_distro.plot()\n",
    "\n"
   ]
  },
  {
   "cell_type": "code",
   "execution_count": 232,
   "id": "b5e9b6a7",
   "metadata": {},
   "outputs": [
    {
     "data": {
      "text/html": [
       "<div>\n",
       "<style scoped>\n",
       "    .dataframe tbody tr th:only-of-type {\n",
       "        vertical-align: middle;\n",
       "    }\n",
       "\n",
       "    .dataframe tbody tr th {\n",
       "        vertical-align: top;\n",
       "    }\n",
       "\n",
       "    .dataframe thead th {\n",
       "        text-align: right;\n",
       "    }\n",
       "</style>\n",
       "<table border=\"1\" class=\"dataframe\">\n",
       "  <thead>\n",
       "    <tr style=\"text-align: right;\">\n",
       "      <th></th>\n",
       "      <th>count</th>\n",
       "    </tr>\n",
       "  </thead>\n",
       "  <tbody>\n",
       "    <tr>\n",
       "      <th>count</th>\n",
       "      <td>237.000000</td>\n",
       "    </tr>\n",
       "    <tr>\n",
       "      <th>mean</th>\n",
       "      <td>130.662447</td>\n",
       "    </tr>\n",
       "    <tr>\n",
       "      <th>std</th>\n",
       "      <td>691.815258</td>\n",
       "    </tr>\n",
       "    <tr>\n",
       "      <th>min</th>\n",
       "      <td>0.000000</td>\n",
       "    </tr>\n",
       "    <tr>\n",
       "      <th>25%</th>\n",
       "      <td>0.000000</td>\n",
       "    </tr>\n",
       "    <tr>\n",
       "      <th>50%</th>\n",
       "      <td>4.000000</td>\n",
       "    </tr>\n",
       "    <tr>\n",
       "      <th>75%</th>\n",
       "      <td>26.000000</td>\n",
       "    </tr>\n",
       "    <tr>\n",
       "      <th>max</th>\n",
       "      <td>9072.000000</td>\n",
       "    </tr>\n",
       "  </tbody>\n",
       "</table>\n",
       "</div>"
      ],
      "text/plain": [
       "             count\n",
       "count   237.000000\n",
       "mean    130.662447\n",
       "std     691.815258\n",
       "min       0.000000\n",
       "25%       0.000000\n",
       "50%       4.000000\n",
       "75%      26.000000\n",
       "max    9072.000000"
      ]
     },
     "execution_count": 232,
     "metadata": {},
     "output_type": "execute_result"
    }
   ],
   "source": [
    "df_guess_dist.describe()\n",
    "#df_guess_dist.head()"
   ]
  },
  {
   "cell_type": "code",
   "execution_count": 235,
   "id": "e8260514",
   "metadata": {},
   "outputs": [
    {
     "data": {
      "text/plain": [
       "<AxesSubplot:>"
      ]
     },
     "execution_count": 235,
     "metadata": {},
     "output_type": "execute_result"
    },
    {
     "data": {
      "image/png": "[encoded data removed]",
      "text/plain": [
       "<Figure size 432x288 with 1 Axes>"
      ]
     },
     "metadata": {
      "needs_background": "light"
     },
     "output_type": "display_data"
    }
   ],
   "source": [
    "df_guess_dist.plot()\n"
   ]
  },
  {
   "cell_type": "code",
   "execution_count": null,
   "id": "e1fbc843",
   "metadata": {},
   "outputs": [],
   "source": []
  },
  {
   "cell_type": "code",
   "execution_count": null,
   "id": "48f4f30b",
   "metadata": {},
   "outputs": [],
   "source": []
  },
  {
   "cell_type": "code",
   "execution_count": null,
   "id": "5f7b4cef",
   "metadata": {},
   "outputs": [],
   "source": [
    "#Mostly debugging code but I didn't think it should get thrown away yet\n",
    "\n",
    "#word = 'grape'\n",
    "#i = 2\n",
    "#more_re = '(?![a-z]*[' + word[i] + '])[a-z]{5})'\n",
    "#print (more_re)\n",
    "#contains = 'al'\n",
    "#contains_re = '(?=[a-z]*[{0}])'.format(contains)\n",
    "#disallowed = 'h'\n",
    "#disallowed_re = '(?![a-z]*[{0}])'.format(disallowed)\n",
    "#match = 'tr'\n",
    "#word_size = 5\n",
    "#match_re = '[a-z]{'+ str(word_size - len(match)) + '}'\n",
    "#final_re = match + contains_re + disallowed_re + match_re\n",
    "#print(final_re)\n",
    "\n",
    "#new_line = '\\n'\n",
    "#remaining_words = new_line.join(words)\n",
    "#print (remaining_words)\n",
    "#more_re = r'^[^b]....$'\n",
    "#results = re.findall(more_re, remaining_words)\n",
    "#print(len(results))\n",
    "#print(results)\n",
    "#print(new_line.join(results))\n",
    "\n",
    "#test = ['blabs', 'black', 'blade', 'blads', 'blady', 'blaer', 'blaes', 'blaff', 'blags', 'blahs', 'blain', 'blame', 'blams', 'bland', 'blank', 'blare', 'blart', 'blase', 'blash', 'blast', 'blate', 'blats', 'blatt', 'blaud', 'blawn', 'blaws', 'blays', 'blaze']\n",
    "#temp_re = re.compile(r'^....s')\n",
    "\n",
    "#results = list(filter(temp_re.search, test)) \n",
    "#print(len(results))\n",
    "#print(results)"
   ]
  }
 ],
 "metadata": {
  "kernelspec": {
   "display_name": "Python 3 (ipykernel)",
   "language": "python",
   "name": "python3"
  },
  "language_info": {
   "codemirror_mode": {
    "name": "ipython",
    "version": 3
   },
   "file_extension": ".py",
   "mimetype": "text/x-python",
   "name": "python",
   "nbconvert_exporter": "python",
   "pygments_lexer": "ipython3",
   "version": "3.9.12"
  }
 },
 "nbformat": 4,
 "nbformat_minor": 5
}
